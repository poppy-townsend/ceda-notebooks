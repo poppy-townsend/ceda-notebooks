{
 "cells": [
  {
   "cell_type": "markdown",
   "id": "28ed6a8e-40ae-4aa7-986a-7cb3df339fc0",
   "metadata": {},
   "source": [
    "# Code to extract ORCID publications"
   ]
  },
  {
   "cell_type": "code",
   "execution_count": 1,
   "id": "f6ed243b-2c81-40d4-957c-7929e4a9462d",
   "metadata": {
    "scrolled": true
   },
   "outputs": [
    {
     "name": "stdout",
     "output_type": "stream",
     "text": [
      "Defaulting to user installation because normal site-packages is not writeable\n",
      "Requirement already satisfied: python-docx in /home/users/ptownsend/.local/lib/python3.11/site-packages (1.2.0)\n",
      "Requirement already satisfied: pandas in /opt/jaspy/lib/python3.11/site-packages (2.2.2)\n",
      "Requirement already satisfied: requests in /opt/jaspy/lib/python3.11/site-packages (2.32.3)\n",
      "Requirement already satisfied: lxml>=3.1.0 in /opt/jaspy/lib/python3.11/site-packages (from python-docx) (5.3.0)\n",
      "Requirement already satisfied: typing_extensions>=4.9.0 in /opt/jaspy/lib/python3.11/site-packages (from python-docx) (4.12.2)\n",
      "Requirement already satisfied: numpy>=1.23.2 in /opt/jaspy/lib/python3.11/site-packages (from pandas) (1.26.4)\n",
      "Requirement already satisfied: python-dateutil>=2.8.2 in /opt/jaspy/lib/python3.11/site-packages (from pandas) (2.9.0)\n",
      "Requirement already satisfied: pytz>=2020.1 in /opt/jaspy/lib/python3.11/site-packages (from pandas) (2024.1)\n",
      "Requirement already satisfied: tzdata>=2022.7 in /opt/jaspy/lib/python3.11/site-packages (from pandas) (2024.1)\n",
      "Requirement already satisfied: charset-normalizer<4,>=2 in /opt/jaspy/lib/python3.11/site-packages (from requests) (3.3.2)\n",
      "Requirement already satisfied: idna<4,>=2.5 in /opt/jaspy/lib/python3.11/site-packages (from requests) (3.7)\n",
      "Requirement already satisfied: urllib3<3,>=1.21.1 in /opt/jaspy/lib/python3.11/site-packages (from requests) (2.2.2)\n",
      "Requirement already satisfied: certifi>=2017.4.17 in /opt/jaspy/lib/python3.11/site-packages (from requests) (2024.7.4)\n",
      "Requirement already satisfied: six>=1.5 in /opt/jaspy/lib/python3.11/site-packages (from python-dateutil>=2.8.2->pandas) (1.16.0)\n"
     ]
    }
   ],
   "source": [
    "# Requirements\n",
    "!pip install python-docx pandas requests"
   ]
  },
  {
   "cell_type": "code",
   "execution_count": 2,
   "id": "57174d6f-4fba-4b6c-9bca-b423f4687ce3",
   "metadata": {},
   "outputs": [],
   "source": [
    "import pandas as pd\n",
    "from datetime import datetime\n",
    "from docx import Document\n",
    "import requests"
   ]
  },
  {
   "cell_type": "code",
   "execution_count": 3,
   "id": "187e358d-4e14-4d40-a3eb-029a79c9d6e8",
   "metadata": {},
   "outputs": [],
   "source": [
    "# Load researcher data from Excel\n",
    "file_path = \"ceda_orcid_combined_summary.xlsx\"\n",
    "orcid_df = pd.read_excel(file_path, sheet_name=\"Researcher Data\", engine=\"openpyxl\")\n",
    "start_year, end_year = 2024, 2025\n",
    "\n",
    "# Define date range for filtering\n",
    "start_date = datetime(start_year, 4, 1)\n",
    "end_date = datetime(end_year, 3, 31)"
   ]
  },
  {
   "cell_type": "code",
   "execution_count": 4,
   "id": "79b53e02-ec9a-4d46-a7d2-2dbb12a1e37b",
   "metadata": {},
   "outputs": [],
   "source": [
    "def get_common_name(x):\n",
    "    \"Get common name from (SURNAME, FIRSTNAME) format.\"\n",
    "    parts = x.split(\",\")\n",
    "    name = f\"{parts[-1].strip()} {parts[0].strip()}\"\n",
    "    return name.title()\n",
    "\n",
    "orcid_df[\"common_name\"] = orcid_df.Name.apply(lambda name: get_common_name(name))"
   ]
  },
  {
   "cell_type": "code",
   "execution_count": 5,
   "id": "9f1d035a-be4c-4232-a1f3-2bd0f63a3eda",
   "metadata": {},
   "outputs": [
    {
     "data": {
      "text/html": [
       "<div>\n",
       "<style scoped>\n",
       "    .dataframe tbody tr th:only-of-type {\n",
       "        vertical-align: middle;\n",
       "    }\n",
       "\n",
       "    .dataframe tbody tr th {\n",
       "        vertical-align: top;\n",
       "    }\n",
       "\n",
       "    .dataframe thead th {\n",
       "        text-align: right;\n",
       "    }\n",
       "</style>\n",
       "<table border=\"1\" class=\"dataframe\">\n",
       "  <thead>\n",
       "    <tr style=\"text-align: right;\">\n",
       "      <th></th>\n",
       "      <th>Name</th>\n",
       "      <th>ORCID</th>\n",
       "      <th>Number of Works for 24/25</th>\n",
       "      <th>Type of Works for 24/25</th>\n",
       "      <th>common_name</th>\n",
       "    </tr>\n",
       "  </thead>\n",
       "  <tbody>\n",
       "    <tr>\n",
       "      <th>0</th>\n",
       "      <td>ALEXANDER, JESSE</td>\n",
       "      <td>0009-0006-2877-3197</td>\n",
       "      <td>4</td>\n",
       "      <td>preprint: 1\\njournal-article: 1\\nconference-po...</td>\n",
       "      <td>Jesse Alexander</td>\n",
       "    </tr>\n",
       "    <tr>\n",
       "      <th>1</th>\n",
       "      <td>ANDERSON, EMILY</td>\n",
       "      <td>0009-0005-7426-840X</td>\n",
       "      <td>0</td>\n",
       "      <td>None specified</td>\n",
       "      <td>Emily Anderson</td>\n",
       "    </tr>\n",
       "    <tr>\n",
       "      <th>2</th>\n",
       "      <td>CONWAY, ESTHER</td>\n",
       "      <td>0000-0002-7796-7661</td>\n",
       "      <td>6</td>\n",
       "      <td>report: 5\\njournal-article: 1</td>\n",
       "      <td>Esther Conway</td>\n",
       "    </tr>\n",
       "    <tr>\n",
       "      <th>3</th>\n",
       "      <td>DONEGAN, STEPHEN</td>\n",
       "      <td>0000-0002-4609-9427</td>\n",
       "      <td>0</td>\n",
       "      <td>None specified</td>\n",
       "      <td>Stephen Donegan</td>\n",
       "    </tr>\n",
       "    <tr>\n",
       "      <th>4</th>\n",
       "      <td>EVANS, RHYS</td>\n",
       "      <td>0009-0006-3575-578X</td>\n",
       "      <td>4</td>\n",
       "      <td>conference-presentation: 3\\nconference-poster: 1</td>\n",
       "      <td>Rhys Evans</td>\n",
       "    </tr>\n",
       "  </tbody>\n",
       "</table>\n",
       "</div>"
      ],
      "text/plain": [
       "               Name                ORCID  Number of Works for 24/25  \\\n",
       "0  ALEXANDER, JESSE  0009-0006-2877-3197                          4   \n",
       "1   ANDERSON, EMILY  0009-0005-7426-840X                          0   \n",
       "2    CONWAY, ESTHER  0000-0002-7796-7661                          6   \n",
       "3  DONEGAN, STEPHEN  0000-0002-4609-9427                          0   \n",
       "4       EVANS, RHYS  0009-0006-3575-578X                          4   \n",
       "\n",
       "                             Type of Works for 24/25      common_name  \n",
       "0  preprint: 1\\njournal-article: 1\\nconference-po...  Jesse Alexander  \n",
       "1                                     None specified   Emily Anderson  \n",
       "2                      report: 5\\njournal-article: 1    Esther Conway  \n",
       "3                                     None specified  Stephen Donegan  \n",
       "4   conference-presentation: 3\\nconference-poster: 1       Rhys Evans  "
      ]
     },
     "execution_count": 5,
     "metadata": {},
     "output_type": "execute_result"
    }
   ],
   "source": [
    "orcid_df.head()"
   ]
  },
  {
   "cell_type": "code",
   "execution_count": 6,
   "id": "ced23102-988b-4e39-9992-05572454e6b1",
   "metadata": {},
   "outputs": [],
   "source": [
    "def get_json(url):\n",
    "    \"Function to download content and return as a dictionary.\"\n",
    "    headers = {\"Accept\": \"application/json\"}\n",
    "    response = requests.get(url, headers=headers)\n",
    "    \n",
    "    if response.status_code != 200:\n",
    "        return {}\n",
    "    \n",
    "    return response.json()"
   ]
  },
  {
   "cell_type": "code",
   "execution_count": 7,
   "id": "a83a04f3-faa1-48f0-bd5f-664ddb362b42",
   "metadata": {},
   "outputs": [],
   "source": [
    "# Function to query ORCID API and extract relevant works\n",
    "def get_contribs(work_path):\n",
    "    \"Returns all contributors for a specific work.\"\n",
    "    url = url = 'https://pub.orcid.org/v3.0' + work_path\n",
    "    data = get_json(url)\n",
    "    contribs = [contrib[\"credit-name\"][\"value\"] for contrib in data[\"contributors\"][\"contributor\"]]\n",
    "\n",
    "    return [f\"{c.split()[-1]}, {' '.join(c.split()[:-1])}\" for c in contribs]\n",
    "\n",
    "\n",
    "def get_orcid_works(person):\n",
    "    \"Return all works for user.\"\n",
    "    orcid_id = orcid_df[orcid_df.common_name == person][\"ORCID\"].iat[0]\n",
    "    url = f\"https://pub.orcid.org/v3.0/{orcid_id}/works\"\n",
    "    data = get_json(url)\n",
    "    works = []\n",
    "    \n",
    "    for group in data.get(\"group\", []):\n",
    "        for work_summary in group.get(\"work-summary\", []):\n",
    "            pub_date = work_summary.get(\"publication-date\")\n",
    "            year = pub_date.get(\"year\", {}).get(\"value\") if pub_date and pub_date.get(\"year\") else None\n",
    "            if not year: continue\n",
    "                \n",
    "            month = pub_date.get(\"month\", {}).get(\"value\") if pub_date and pub_date.get(\"month\") else 1\n",
    "            day = pub_date.get(\"day\", {}).get(\"value\") if pub_date and pub_date.get(\"day\") else 1\n",
    "            pub_datetime = datetime(int(year), int(month), int(day))\n",
    "\n",
    "            if start_date <= pub_datetime <= end_date:\n",
    "                title = work_summary.get(\"title\", {}).get(\"title\", {}).get(\"value\", \"\")\n",
    "                # Clean up title\n",
    "                title = title.replace(\"&#160;\", \"\")\n",
    "                \n",
    "                type_ = work_summary.get(\"type\", \"\")\n",
    "                external_ids = work_summary.get(\"external-ids\", {}).get(\"external-id\", [])\n",
    "                doi = next((eid.get(\"external-id-value\") for eid in external_ids if eid.get(\"external-id-type\") == \"doi\"), \"\")\n",
    "\n",
    "                work_path = work_summary.get(\"path\", None)\n",
    "                authors = get_contribs(work_path)\n",
    "                #authors = df[df[\"ORCID\"] == orcid_id][\"Name\"].values[0]\n",
    "                citation = f\"{'; '.join(authors)} ({year}). {title}. DOI: {doi}. [{type_}]\"\n",
    "                works.append(citation)\n",
    "\n",
    "    return works"
   ]
  },
  {
   "cell_type": "code",
   "execution_count": 8,
   "id": "bd8c9e01-98a6-4d0f-862c-79136f154b06",
   "metadata": {},
   "outputs": [],
   "source": [
    "def get_all_citations():\n",
    "    \"Collect all citations and return as a sorted list.\"\n",
    "    citations = []\n",
    "    for name in orcid_df[\"common_name\"].dropna():\n",
    "        print(f\"[INFO] Getting citations for: {name}\")\n",
    "        citations.extend(get_orcid_works(name))\n",
    "    \n",
    "    # Sort citations alphabetically\n",
    "    return sorted(citations)"
   ]
  },
  {
   "cell_type": "code",
   "execution_count": 10,
   "id": "0c9a8c49-564a-4e4c-bcb0-a9711699246f",
   "metadata": {},
   "outputs": [
    {
     "name": "stdout",
     "output_type": "stream",
     "text": [
      "[INFO] Getting citations for: Jesse Alexander\n",
      "[INFO] Getting citations for: Emily Anderson\n",
      "[INFO] Getting citations for: Esther Conway\n",
      "[INFO] Getting citations for: Stephen Donegan\n",
      "[INFO] Getting citations for: Rhys Evans\n",
      "[INFO] Getting citations for: Nicola Farmer\n",
      "[INFO] Getting citations for: Ellie Fisher\n",
      "[INFO] Getting citations for: Wendy Elizabeth Garland\n",
      "[INFO] Getting citations for: Hayley Gray\n",
      "[INFO] Getting citations for: Matthew Jones\n",
      "[INFO] Getting citations for: Martin Juckes\n",
      "[INFO] Getting citations for: Philip Kershaw\n",
      "[INFO] Getting citations for: Diane Knappett\n",
      "[INFO] Getting citations for: Danny Lloyd\n",
      "[INFO] Getting citations for: Molly Macrae\n",
      "[INFO] Getting citations for: Ag Stephens\n",
      "[INFO] Getting citations for: Neil Massey\n",
      "[INFO] Getting citations for: Chaminuka Mbanje\n",
      "[INFO] Getting citations for: Matthew Paice\n",
      "[INFO] Getting citations for: Alison Pamment\n",
      "[INFO] Getting citations for: Graham Parton\n",
      "[INFO] Getting citations for: Charlotte Pascoe\n",
      "[INFO] Getting citations for: Sam Pepler\n",
      "[INFO] Getting citations for: David Poulter\n",
      "[INFO] Getting citations for: Ag Stephens\n",
      "[INFO] Getting citations for: Poppy Townsend\n",
      "[INFO] Getting citations for: William Tucker\n",
      "[INFO] Getting citations for: Daniel Westwood\n"
     ]
    }
   ],
   "source": [
    "citations = get_all_citations()"
   ]
  },
  {
   "cell_type": "code",
   "execution_count": 11,
   "id": "1ba28909-0556-4120-bbbc-1317440a44e6",
   "metadata": {},
   "outputs": [],
   "source": [
    "def create_word_doc(citations):\n",
    "    \"Write the citations to a Word docx.\"\n",
    "    \n",
    "    # Create Word document\n",
    "    doc = Document()\n",
    "    doc.add_heading(f\"CEDA Staff Publications ({start_year}-{end_year})\", level=1)\n",
    "    \n",
    "    for citation in citations:\n",
    "        doc.add_paragraph(citation)\n",
    "    \n",
    "    # Save document\n",
    "    doc_name = f\"CEDA_Publications_{start_year}_{end_year}.docx\"\n",
    "    doc.save(doc_name)\n",
    "    \n",
    "    print(f\"Document saved as '{doc_name}'.\")"
   ]
  },
  {
   "cell_type": "code",
   "execution_count": 13,
   "id": "17b78495-9167-49bf-a896-4619a362fd1b",
   "metadata": {},
   "outputs": [
    {
     "name": "stdout",
     "output_type": "stream",
     "text": [
      "Document saved as 'CEDA_Publications_2024_2025.docx'.\n"
     ]
    }
   ],
   "source": [
    "create_word_doc(citations)"
   ]
  },
  {
   "cell_type": "code",
   "execution_count": null,
   "id": "eae83655-e8c1-4bc8-902e-fdd5b168713c",
   "metadata": {},
   "outputs": [],
   "source": [
    "# Ideas for future improvements: \n",
    "# - CEDA authors to be in bold\n",
    "# - summary table with total number of each work types\n",
    "# - summary text which says all CEDA authors are marked in bold\n",
    "# - make it generic (i.e. spreadsheet name) so others can use it e.g. RAL Space, EDS \n",
    "# - remove duplications, use the all versions DOI \n",
    "# - add URL link rather than just the plain text DOI "
   ]
  }
 ],
 "metadata": {
  "kernelspec": {
   "display_name": "Python 3 + Jaspy",
   "language": "python",
   "name": "jaspy"
  },
  "language_info": {
   "codemirror_mode": {
    "name": "ipython",
    "version": 3
   },
   "file_extension": ".py",
   "mimetype": "text/x-python",
   "name": "python",
   "nbconvert_exporter": "python",
   "pygments_lexer": "ipython3",
   "version": "3.11.9"
  }
 },
 "nbformat": 4,
 "nbformat_minor": 5
}
